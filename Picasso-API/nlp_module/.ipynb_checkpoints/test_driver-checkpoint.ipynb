{
 "cells": [
  {
   "cell_type": "code",
   "execution_count": 1,
   "metadata": {},
   "outputs": [],
   "source": [
    "## Importign moduels:\n",
    "from constants import intents ,text_constant\n",
    "from data_generation import data_gen,save_generated_queries\n",
    "from model_training import train\n",
    "from model_inference import test"
   ]
  },
  {
   "cell_type": "code",
   "execution_count": 2,
   "metadata": {},
   "outputs": [],
   "source": [
    "## Importing inbuilt libraries:\n",
    "import pandas as pd\n",
    "import spacy\n",
    "import warnings\n",
    "warnings.filterwarnings(\"ignore\")\n",
    "\n",
    "%load_ext autoreload\n",
    "%autoreload 2"
   ]
  },
  {
   "cell_type": "code",
   "execution_count": 3,
   "metadata": {},
   "outputs": [
    {
     "data": {
      "text/plain": [
       "<module 'constants.intents' from '/Users/nethikasuraweera/Documents/Pactera_work/Nestle/nestle_demo/Nestle_Demo_Modules/constants/intents.py'>"
      ]
     },
     "execution_count": 3,
     "metadata": {},
     "output_type": "execute_result"
    }
   ],
   "source": [
    "intents"
   ]
  },
  {
   "cell_type": "code",
   "execution_count": 5,
   "metadata": {},
   "outputs": [
    {
     "data": {
      "text/plain": [
       "<module 'constants.text_constant' from '/Users/nethikasuraweera/Documents/Pactera_work/Nestle/nestle_demo/Nestle_Demo_Modules/constants/text_constant.py'>"
      ]
     },
     "execution_count": 5,
     "metadata": {},
     "output_type": "execute_result"
    }
   ],
   "source": [
    "text_constant"
   ]
  },
  {
   "cell_type": "code",
   "execution_count": 4,
   "metadata": {},
   "outputs": [],
   "source": [
    "Questions = data_gen.compose_questions(intents,text_constant,1000)"
   ]
  },
  {
   "cell_type": "code",
   "execution_count": 6,
   "metadata": {},
   "outputs": [
    {
     "data": {
      "text/html": [
       "<div>\n",
       "<style scoped>\n",
       "    .dataframe tbody tr th:only-of-type {\n",
       "        vertical-align: middle;\n",
       "    }\n",
       "\n",
       "    .dataframe tbody tr th {\n",
       "        vertical-align: top;\n",
       "    }\n",
       "\n",
       "    .dataframe thead th {\n",
       "        text-align: right;\n",
       "    }\n",
       "</style>\n",
       "<table border=\"1\" class=\"dataframe\">\n",
       "  <thead>\n",
       "    <tr style=\"text-align: right;\">\n",
       "      <th></th>\n",
       "      <th>Queries</th>\n",
       "      <th>Task</th>\n",
       "      <th>Category</th>\n",
       "      <th>Sub_Category</th>\n",
       "      <th>Customer</th>\n",
       "    </tr>\n",
       "  </thead>\n",
       "  <tbody>\n",
       "    <tr>\n",
       "      <th>0</th>\n",
       "      <td>fetch Max Shipment  Cold Cuts in Week Week11?</td>\n",
       "      <td>Max Shipment</td>\n",
       "      <td>NA</td>\n",
       "      <td>Cold Cuts</td>\n",
       "      <td>NA</td>\n",
       "    </tr>\n",
       "    <tr>\n",
       "      <th>1</th>\n",
       "      <td>fetch Revenue  Amazon in Week Week12 to Week28?</td>\n",
       "      <td>Revenue</td>\n",
       "      <td>NA</td>\n",
       "      <td>NA</td>\n",
       "      <td>Amazon</td>\n",
       "    </tr>\n",
       "    <tr>\n",
       "      <th>2</th>\n",
       "      <td>get Top Line  Processed Cheese in Month Nov?</td>\n",
       "      <td>Top Line</td>\n",
       "      <td>NA</td>\n",
       "      <td>Processed Cheese</td>\n",
       "      <td>NA</td>\n",
       "    </tr>\n",
       "    <tr>\n",
       "      <th>3</th>\n",
       "      <td>display Net sales  Sauces in Year 2019?</td>\n",
       "      <td>Net sales</td>\n",
       "      <td>Sauces</td>\n",
       "      <td>NA</td>\n",
       "      <td>NA</td>\n",
       "    </tr>\n",
       "    <tr>\n",
       "      <th>4</th>\n",
       "      <td>generate Net sales  Cheese in Year 2019?</td>\n",
       "      <td>Net sales</td>\n",
       "      <td>Cheese</td>\n",
       "      <td>NA</td>\n",
       "      <td>NA</td>\n",
       "    </tr>\n",
       "    <tr>\n",
       "      <th>...</th>\n",
       "      <td>...</td>\n",
       "      <td>...</td>\n",
       "      <td>...</td>\n",
       "      <td>...</td>\n",
       "      <td>...</td>\n",
       "    </tr>\n",
       "    <tr>\n",
       "      <th>995</th>\n",
       "      <td>generate Top Line  Grated in Month Jan to Nov?</td>\n",
       "      <td>Top Line</td>\n",
       "      <td>NA</td>\n",
       "      <td>Grated</td>\n",
       "      <td>NA</td>\n",
       "    </tr>\n",
       "    <tr>\n",
       "      <th>996</th>\n",
       "      <td>generate Net sales  Breakfast in Week Week38?</td>\n",
       "      <td>Net sales</td>\n",
       "      <td>Breakfast</td>\n",
       "      <td>NA</td>\n",
       "      <td>NA</td>\n",
       "    </tr>\n",
       "    <tr>\n",
       "      <th>997</th>\n",
       "      <td>generate Top Line  Candy in Month Apr to Aug?</td>\n",
       "      <td>Top Line</td>\n",
       "      <td>Candy</td>\n",
       "      <td>NA</td>\n",
       "      <td>NA</td>\n",
       "    </tr>\n",
       "    <tr>\n",
       "      <th>998</th>\n",
       "      <td>generate Top Line  Specialty Meats in Quarter Q3?</td>\n",
       "      <td>Top Line</td>\n",
       "      <td>NA</td>\n",
       "      <td>Specialty Meats</td>\n",
       "      <td>NA</td>\n",
       "    </tr>\n",
       "    <tr>\n",
       "      <th>999</th>\n",
       "      <td>fetch Bottom Line  Sauces in Week Week24 to We...</td>\n",
       "      <td>Bottom Line</td>\n",
       "      <td>Sauces</td>\n",
       "      <td>NA</td>\n",
       "      <td>NA</td>\n",
       "    </tr>\n",
       "  </tbody>\n",
       "</table>\n",
       "<p>1000 rows × 5 columns</p>\n",
       "</div>"
      ],
      "text/plain": [
       "                                               Queries          Task  \\\n",
       "0        fetch Max Shipment  Cold Cuts in Week Week11?  Max Shipment   \n",
       "1      fetch Revenue  Amazon in Week Week12 to Week28?       Revenue   \n",
       "2         get Top Line  Processed Cheese in Month Nov?      Top Line   \n",
       "3              display Net sales  Sauces in Year 2019?     Net sales   \n",
       "4             generate Net sales  Cheese in Year 2019?     Net sales   \n",
       "..                                                 ...           ...   \n",
       "995     generate Top Line  Grated in Month Jan to Nov?      Top Line   \n",
       "996      generate Net sales  Breakfast in Week Week38?     Net sales   \n",
       "997      generate Top Line  Candy in Month Apr to Aug?      Top Line   \n",
       "998  generate Top Line  Specialty Meats in Quarter Q3?      Top Line   \n",
       "999  fetch Bottom Line  Sauces in Week Week24 to We...   Bottom Line   \n",
       "\n",
       "      Category      Sub_Category Customer  \n",
       "0           NA         Cold Cuts       NA  \n",
       "1           NA                NA   Amazon  \n",
       "2           NA  Processed Cheese       NA  \n",
       "3       Sauces                NA       NA  \n",
       "4       Cheese                NA       NA  \n",
       "..         ...               ...      ...  \n",
       "995         NA            Grated       NA  \n",
       "996  Breakfast                NA       NA  \n",
       "997      Candy                NA       NA  \n",
       "998         NA   Specialty Meats       NA  \n",
       "999     Sauces                NA       NA  \n",
       "\n",
       "[1000 rows x 5 columns]"
      ]
     },
     "execution_count": 6,
     "metadata": {},
     "output_type": "execute_result"
    }
   ],
   "source": [
    "Questions"
   ]
  },
  {
   "cell_type": "code",
   "execution_count": null,
   "metadata": {},
   "outputs": [],
   "source": []
  }
 ],
 "metadata": {
  "kernelspec": {
   "display_name": "venv_nlp",
   "language": "python",
   "name": "venv_nlp"
  },
  "language_info": {
   "codemirror_mode": {
    "name": "ipython",
    "version": 3
   },
   "file_extension": ".py",
   "mimetype": "text/x-python",
   "name": "python",
   "nbconvert_exporter": "python",
   "pygments_lexer": "ipython3",
   "version": "3.7.7"
  }
 },
 "nbformat": 4,
 "nbformat_minor": 4
}
