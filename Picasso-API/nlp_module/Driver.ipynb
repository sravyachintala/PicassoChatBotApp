{
 "cells": [
  {
   "cell_type": "code",
   "execution_count": 1,
   "metadata": {},
   "outputs": [],
   "source": [
    "## Importign moduels:\n",
    "from constants import intents ,text_constant\n",
    "from data_generation import data_gen,save_generated_queries\n",
    "from model_training import train\n",
    "from model_inference import test"
   ]
  },
  {
   "cell_type": "code",
   "execution_count": 2,
   "metadata": {},
   "outputs": [],
   "source": [
    "## Importing inbuilt libraries:\n",
    "import pandas as pd\n",
    "import spacy\n",
    "import warnings\n",
    "warnings.filterwarnings(\"ignore\")\n",
    "\n",
    "%load_ext autoreload\n",
    "%autoreload 2"
   ]
  },
  {
   "cell_type": "markdown",
   "metadata": {},
   "source": [
    "## Generate Queries:"
   ]
  },
  {
   "cell_type": "code",
   "execution_count": 3,
   "metadata": {},
   "outputs": [],
   "source": [
    "Questions = data_gen.compose_questions(intents,text_constant,1000)"
   ]
  },
  {
   "cell_type": "code",
   "execution_count": 4,
   "metadata": {},
   "outputs": [
    {
     "data": {
      "text/html": [
       "<div>\n",
       "<style scoped>\n",
       "    .dataframe tbody tr th:only-of-type {\n",
       "        vertical-align: middle;\n",
       "    }\n",
       "\n",
       "    .dataframe tbody tr th {\n",
       "        vertical-align: top;\n",
       "    }\n",
       "\n",
       "    .dataframe thead th {\n",
       "        text-align: right;\n",
       "    }\n",
       "</style>\n",
       "<table border=\"1\" class=\"dataframe\">\n",
       "  <thead>\n",
       "    <tr style=\"text-align: right;\">\n",
       "      <th></th>\n",
       "      <th>Queries</th>\n",
       "      <th>Task</th>\n",
       "      <th>Category</th>\n",
       "      <th>Sub_Category</th>\n",
       "      <th>Customer</th>\n",
       "    </tr>\n",
       "  </thead>\n",
       "  <tbody>\n",
       "    <tr>\n",
       "      <th>0</th>\n",
       "      <td>display Net sales  Sauces in Week Week41?</td>\n",
       "      <td>Net sales</td>\n",
       "      <td>Sauces</td>\n",
       "      <td>NA</td>\n",
       "      <td>NA</td>\n",
       "    </tr>\n",
       "    <tr>\n",
       "      <th>1</th>\n",
       "      <td>get Revenue  Grated in Year 2019?</td>\n",
       "      <td>Revenue</td>\n",
       "      <td>NA</td>\n",
       "      <td>Grated</td>\n",
       "      <td>NA</td>\n",
       "    </tr>\n",
       "    <tr>\n",
       "      <th>2</th>\n",
       "      <td>get Net sales  Target in Week Week9?</td>\n",
       "      <td>Net sales</td>\n",
       "      <td>NA</td>\n",
       "      <td>NA</td>\n",
       "      <td>Target</td>\n",
       "    </tr>\n",
       "    <tr>\n",
       "      <th>3</th>\n",
       "      <td>get Revenue  Cheese in Year 2019?</td>\n",
       "      <td>Revenue</td>\n",
       "      <td>Cheese</td>\n",
       "      <td>NA</td>\n",
       "      <td>NA</td>\n",
       "    </tr>\n",
       "  </tbody>\n",
       "</table>\n",
       "</div>"
      ],
      "text/plain": [
       "                                     Queries       Task Category Sub_Category  \\\n",
       "0  display Net sales  Sauces in Week Week41?  Net sales   Sauces           NA   \n",
       "1          get Revenue  Grated in Year 2019?    Revenue       NA       Grated   \n",
       "2       get Net sales  Target in Week Week9?  Net sales       NA           NA   \n",
       "3          get Revenue  Cheese in Year 2019?    Revenue   Cheese           NA   \n",
       "\n",
       "  Customer  \n",
       "0       NA  \n",
       "1       NA  \n",
       "2   Target  \n",
       "3       NA  "
      ]
     },
     "execution_count": 4,
     "metadata": {},
     "output_type": "execute_result"
    }
   ],
   "source": [
    "Questions[0:4]"
   ]
  },
  {
   "cell_type": "markdown",
   "metadata": {},
   "source": [
    "## Save the generated queries to generated data folder"
   ]
  },
  {
   "cell_type": "code",
   "execution_count": 5,
   "metadata": {},
   "outputs": [],
   "source": [
    "save_generated_queries.save_queries('generated_data','generated_queries',Questions)"
   ]
  },
  {
   "cell_type": "markdown",
   "metadata": {},
   "source": [
    "## Training the spacy model for Customer, Category, Sub-Category and Tasks: "
   ]
  },
  {
   "cell_type": "markdown",
   "metadata": {},
   "source": [
    "This dummy model with one iteration is just for displaying the execution method for the training stage."
   ]
  },
  {
   "cell_type": "code",
   "execution_count": 6,
   "metadata": {},
   "outputs": [],
   "source": [
    "#train.train(Questions,\"models/dummy_model\",1)"
   ]
  },
  {
   "cell_type": "markdown",
   "metadata": {},
   "source": [
    "## Test Set Prediction:"
   ]
  },
  {
   "cell_type": "markdown",
   "metadata": {},
   "source": [
    "For Prediction we will be using our trained model: \n",
    "***models/spacy_trained_model_v2***\n"
   ]
  },
  {
   "cell_type": "code",
   "execution_count": 7,
   "metadata": {},
   "outputs": [],
   "source": [
    "model = spacy.load('models/spacy_trained_model_v2')\n",
    "\n",
    "## This will be used for extracitng Time Feature:\n",
    "\n",
    "nlp_md = spacy.load('en_core_web_md')"
   ]
  },
  {
   "cell_type": "markdown",
   "metadata": {},
   "source": [
    "#### Using dataframe as input:"
   ]
  },
  {
   "cell_type": "code",
   "execution_count": 8,
   "metadata": {},
   "outputs": [],
   "source": [
    "# df = pd.read_csv('generated_data/Generated_English_Queries_v3_without_keyword_Test_Set.csv',keep_default_na=False)\n",
    "# df.head(3)"
   ]
  },
  {
   "cell_type": "code",
   "execution_count": 9,
   "metadata": {},
   "outputs": [],
   "source": [
    "#intent_pred = test.predict(df)"
   ]
  },
  {
   "cell_type": "code",
   "execution_count": 10,
   "metadata": {},
   "outputs": [],
   "source": [
    "# df['Intent'] = intent_pred.values()"
   ]
  },
  {
   "cell_type": "code",
   "execution_count": 11,
   "metadata": {},
   "outputs": [],
   "source": [
    "# df.head()"
   ]
  },
  {
   "cell_type": "code",
   "execution_count": 12,
   "metadata": {
    "scrolled": true
   },
   "outputs": [],
   "source": [
    "# output_df = df[['English_Queries','Intent']]\n",
    "# output_df.to_csv('Output08Dec_1.csv', index = False,)"
   ]
  },
  {
   "cell_type": "markdown",
   "metadata": {},
   "source": [
    "#### Using list as input"
   ]
  },
  {
   "cell_type": "code",
   "execution_count": 43,
   "metadata": {},
   "outputs": [],
   "source": [
    " test_list = ['generate Max Shipment Candy in quarter Q2?','generate Top Line Sauces in quarter Q1 to Q4?','generate Max Shipment for the Customer Albertsons/Safeway in quarter Q1?']"
   ]
  },
  {
   "cell_type": "code",
   "execution_count": 14,
   "metadata": {},
   "outputs": [],
   "source": [
    "# intent_lst_pred = test.predict(nlp_md,model,test_list)"
   ]
  },
  {
   "cell_type": "code",
   "execution_count": 15,
   "metadata": {},
   "outputs": [],
   "source": [
    "# intent_lst_pred"
   ]
  },
  {
   "cell_type": "markdown",
   "metadata": {},
   "source": [
    "#### Using Single query as input"
   ]
  },
  {
   "cell_type": "code",
   "execution_count": 4,
   "metadata": {},
   "outputs": [
    {
     "name": "stdout",
     "output_type": "stream",
     "text": [
      "month\n",
      "Wall time: 4.63 s\n"
     ]
    },
    {
     "data": {
      "text/plain": [
       "{'task': 'Net sales',\n",
       " 'customer': 'August',\n",
       " 'date': {'month': {'lower': 'May', 'upper': 'Aug', 'range': 'YES'}},\n",
       " 'upc': '',\n",
       " 'ppg': '',\n",
       " 'factory': '',\n",
       " 'category': '',\n",
       " 'sub_category': '',\n",
       " 'business_unit': '',\n",
       " 'dc': ''}"
      ]
     },
     "execution_count": 4,
     "metadata": {},
     "output_type": "execute_result"
    }
   ],
   "source": [
    "%%time\n",
    "intent_SQ_pred = test.predict('get Net sales Target from month May to August?')\n",
    "intent_SQ_pred"
   ]
  },
  {
   "cell_type": "code",
   "execution_count": 5,
   "metadata": {},
   "outputs": [
    {
     "name": "stdout",
     "output_type": "stream",
     "text": [
      "Wall time: 4.38 s\n"
     ]
    },
    {
     "data": {
      "text/plain": [
       "{'task': 'Bottom Line',\n",
       " 'customer': 'Target',\n",
       " 'category': 'Candy',\n",
       " 'sub_category': 'Gelatin',\n",
       " 'date': {'month': {'lower': 'Sep', 'range': 'NO'}},\n",
       " 'upc': '',\n",
       " 'ppg': 'Candy Gelatin 120',\n",
       " 'factory': '',\n",
       " 'business_unit': '',\n",
       " 'dc': ''}"
      ]
     },
     "execution_count": 5,
     "metadata": {},
     "output_type": "execute_result"
    }
   ],
   "source": [
    "%%time\n",
    "intent_SQ_pred = test.predict('Generate Bottom Line for Target in month September for Candy Gelatin 120?')\n",
    "intent_SQ_pred"
   ]
  },
  {
   "cell_type": "code",
   "execution_count": 6,
   "metadata": {},
   "outputs": [
    {
     "name": "stdout",
     "output_type": "stream",
     "text": [
      "Wall time: 4.05 s\n"
     ]
    },
    {
     "data": {
      "text/plain": [
       "{'task': 'Count',\n",
       " 'date': {'week': {'lower': Wk31, 'range': 'NO'}},\n",
       " 'upc': '1000000014135',\n",
       " 'ppg': '',\n",
       " 'factory': '',\n",
       " 'customer': '',\n",
       " 'category': '',\n",
       " 'sub_category': '',\n",
       " 'business_unit': '',\n",
       " 'dc': ''}"
      ]
     },
     "execution_count": 6,
     "metadata": {},
     "output_type": "execute_result"
    }
   ],
   "source": [
    "%%time\n",
    "intent_SQ_pred = test.predict('Fetch Count for Natural Cheese 1000000014135 in week Wk31?')\n",
    "intent_SQ_pred"
   ]
  }
 ],
 "metadata": {
  "kernelspec": {
   "display_name": "Python 3",
   "language": "python",
   "name": "python3"
  },
  "language_info": {
   "codemirror_mode": {
    "name": "ipython",
    "version": 3
   },
   "file_extension": ".py",
   "mimetype": "text/x-python",
   "name": "python",
   "nbconvert_exporter": "python",
   "pygments_lexer": "ipython3",
   "version": "3.8.5"
  }
 },
 "nbformat": 4,
 "nbformat_minor": 4
}
